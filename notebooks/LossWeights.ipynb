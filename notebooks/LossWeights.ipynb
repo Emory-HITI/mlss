{
 "cells": [
  {
   "cell_type": "code",
   "execution_count": 1,
   "id": "bbdcd0e1-aa97-443c-9641-2bcf82230698",
   "metadata": {},
   "outputs": [],
   "source": [
    "import numpy as np\n",
    "import pandas as pd\n",
    "import sklearn\n",
    "\n",
    "import glob"
   ]
  },
  {
   "cell_type": "code",
   "execution_count": 2,
   "id": "dcb62d37-49c5-44b5-a633-86ddc62efb22",
   "metadata": {},
   "outputs": [],
   "source": [
    "images = glob.glob('../data/chest_xray/train/*/*.jpeg')"
   ]
  },
  {
   "cell_type": "code",
   "execution_count": 4,
   "id": "b4468d9e-c72f-4597-a9d0-612e0e082570",
   "metadata": {},
   "outputs": [],
   "source": [
    "IMAGE_CLASS = [each.split('/')[-2] for each in images]"
   ]
  },
  {
   "cell_type": "code",
   "execution_count": 3,
   "id": "1d48756c-e1f6-42d6-8e02-550afc835623",
   "metadata": {},
   "outputs": [],
   "source": [
    "cl = ['NORMAL', 'PNEUMONIA']"
   ]
  },
  {
   "cell_type": "code",
   "execution_count": 6,
   "id": "c6d21536-49e5-4591-a5ea-44d939c8a9db",
   "metadata": {},
   "outputs": [],
   "source": [
    "weights = sklearn.utils.class_weight.compute_class_weight(class_weight='balanced', classes=cl, y=IMAGE_CLASS)"
   ]
  },
  {
   "cell_type": "code",
   "execution_count": 7,
   "id": "d9135cda-3e15-4dfa-a0d2-2a281bc1222c",
   "metadata": {},
   "outputs": [
    {
     "data": {
      "text/plain": [
       "array([1.9448173 , 0.67303226])"
      ]
     },
     "execution_count": 7,
     "metadata": {},
     "output_type": "execute_result"
    }
   ],
   "source": [
    "weights"
   ]
  },
  {
   "cell_type": "code",
   "execution_count": null,
   "id": "52adb796-18e3-47d8-806f-ba4929225d60",
   "metadata": {},
   "outputs": [],
   "source": []
  }
 ],
 "metadata": {
  "kernelspec": {
   "display_name": "Python 3 (ipykernel)",
   "language": "python",
   "name": "python3"
  },
  "language_info": {
   "codemirror_mode": {
    "name": "ipython",
    "version": 3
   },
   "file_extension": ".py",
   "mimetype": "text/x-python",
   "name": "python",
   "nbconvert_exporter": "python",
   "pygments_lexer": "ipython3",
   "version": "3.9.7"
  }
 },
 "nbformat": 4,
 "nbformat_minor": 5
}
